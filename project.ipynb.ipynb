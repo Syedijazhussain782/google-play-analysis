{
 "cells": [
  {
   "cell_type": "code",
   "execution_count": 16,
   "metadata": {},
   "outputs": [],
   "source": [
    "import  pyspark\n",
    "from pyspark.sql  import  SparkSession\n",
    "spark = SparkSession.builder \\\n",
    "    .appName(\"Read CSV Example\") \\\n",
    "    .getOrCreate()\n",
    "from pyspark.sql.functions import *\n",
    "from pyspark.sql.functions import regexp_replace,col\n",
    "from pyspark.sql.types import StructType, StructField, StringType, IntegerType"
   ]
  },
  {
   "cell_type": "code",
   "execution_count": 7,
   "metadata": {},
   "outputs": [
    {
     "name": "stdout",
     "output_type": "stream",
     "text": [
      "+--------------------+--------------+------+-------+----+-----------+----+-----+--------------+--------------------+----------------+------------------+------------+\n",
      "|                 App|      Category|Rating|Reviews|Size|   Installs|Type|Price|Content Rating|              Genres|    Last Updated|       Current Ver| Android Ver|\n",
      "+--------------------+--------------+------+-------+----+-----------+----+-----+--------------+--------------------+----------------+------------------+------------+\n",
      "|Photo Editor & Ca...|ART_AND_DESIGN|   4.1|    159| 19M|    10,000+|Free|    0|      Everyone|        Art & Design| January 7, 2018|             1.0.0|4.0.3 and up|\n",
      "| Coloring book moana|ART_AND_DESIGN|   3.9|    967| 14M|   500,000+|Free|    0|      Everyone|Art & Design;Pret...|January 15, 2018|             2.0.0|4.0.3 and up|\n",
      "|U Launcher Lite –...|ART_AND_DESIGN|   4.7|  87510|8.7M| 5,000,000+|Free|    0|      Everyone|        Art & Design|  August 1, 2018|             1.2.4|4.0.3 and up|\n",
      "|Sketch - Draw & P...|ART_AND_DESIGN|   4.5| 215644| 25M|50,000,000+|Free|    0|          Teen|        Art & Design|    June 8, 2018|Varies with device|  4.2 and up|\n",
      "|Pixel Draw - Numb...|ART_AND_DESIGN|   4.3|    967|2.8M|   100,000+|Free|    0|      Everyone|Art & Design;Crea...|   June 20, 2018|               1.1|  4.4 and up|\n",
      "+--------------------+--------------+------+-------+----+-----------+----+-----+--------------+--------------------+----------------+------------------+------------+\n",
      "only showing top 5 rows\n",
      "\n"
     ]
    }
   ],
   "source": [
    "df=spark.read.load(\"G:\\SPARK_PROJECTS\\Google Play Store Analyis\\googleplaystore.csv\",format=\"csv\",sep=\",\",escape='\"',header=True,inferSchema=True)\n",
    "df.show(5)"
   ]
  },
  {
   "cell_type": "code",
   "execution_count": 9,
   "metadata": {},
   "outputs": [
    {
     "name": "stdout",
     "output_type": "stream",
     "text": [
      "root\n",
      " |-- App: string (nullable = true)\n",
      " |-- Category: string (nullable = true)\n",
      " |-- Rating: double (nullable = true)\n",
      " |-- Reviews: string (nullable = true)\n",
      " |-- Size: string (nullable = true)\n",
      " |-- Installs: string (nullable = true)\n",
      " |-- Type: string (nullable = true)\n",
      " |-- Price: string (nullable = true)\n",
      " |-- Content Rating: string (nullable = true)\n",
      " |-- Genres: string (nullable = true)\n",
      " |-- Last Updated: string (nullable = true)\n",
      " |-- Current Ver: string (nullable = true)\n",
      " |-- Android Ver: string (nullable = true)\n",
      "\n"
     ]
    }
   ],
   "source": [
    "df.printSchema()"
   ]
  },
  {
   "cell_type": "code",
   "execution_count": 18,
   "metadata": {},
   "outputs": [
    {
     "name": "stdout",
     "output_type": "stream",
     "text": [
      "root\n",
      " |-- App: string (nullable = true)\n",
      " |-- Category: string (nullable = true)\n",
      " |-- Rating: double (nullable = true)\n",
      " |-- Reviews: integer (nullable = true)\n",
      " |-- Size: string (nullable = true)\n",
      " |-- Installs: integer (nullable = true)\n",
      " |-- Type: string (nullable = true)\n",
      " |-- Price: integer (nullable = true)\n",
      " |-- Content Rating: string (nullable = true)\n",
      " |-- Genres: string (nullable = true)\n",
      " |-- Last Updated: string (nullable = true)\n",
      " |-- Current Ver: string (nullable = true)\n",
      " |-- Android Ver: string (nullable = true)\n",
      "\n"
     ]
    }
   ],
   "source": [
    "df=df.withColumn(\"Reviews\",col(\"Reviews\").cast(IntegerType()))\\\n",
    ".withColumn(\"Installs\",regexp_replace(col(\"Installs\"),\"[^0-9]\",\"\"))\\\n",
    ".withColumn(\"Installs\",col(\"Installs\").cast(IntegerType()))\\\n",
    ".withColumn(\"Price\",regexp_replace(col(\"Price\"),\"[$]\",\"\"))\\\n",
    ".withColumn(\"Price\",col(\"Price\").cast(IntegerType()))\n",
    "\n",
    "df.printSchema()"
   ]
  },
  {
   "cell_type": "code",
   "execution_count": 19,
   "metadata": {},
   "outputs": [
    {
     "name": "stdout",
     "output_type": "stream",
     "text": [
      "+--------------------+--------------+------+-------+----+--------+----+-----+--------------+--------------------+----------------+------------------+------------+\n",
      "|                 App|      Category|Rating|Reviews|Size|Installs|Type|Price|Content Rating|              Genres|    Last Updated|       Current Ver| Android Ver|\n",
      "+--------------------+--------------+------+-------+----+--------+----+-----+--------------+--------------------+----------------+------------------+------------+\n",
      "|Photo Editor & Ca...|ART_AND_DESIGN|   4.1|    159| 19M|   10000|Free|    0|      Everyone|        Art & Design| January 7, 2018|             1.0.0|4.0.3 and up|\n",
      "| Coloring book moana|ART_AND_DESIGN|   3.9|    967| 14M|  500000|Free|    0|      Everyone|Art & Design;Pret...|January 15, 2018|             2.0.0|4.0.3 and up|\n",
      "|U Launcher Lite –...|ART_AND_DESIGN|   4.7|  87510|8.7M| 5000000|Free|    0|      Everyone|        Art & Design|  August 1, 2018|             1.2.4|4.0.3 and up|\n",
      "|Sketch - Draw & P...|ART_AND_DESIGN|   4.5| 215644| 25M|50000000|Free|    0|          Teen|        Art & Design|    June 8, 2018|Varies with device|  4.2 and up|\n",
      "|Pixel Draw - Numb...|ART_AND_DESIGN|   4.3|    967|2.8M|  100000|Free|    0|      Everyone|Art & Design;Crea...|   June 20, 2018|               1.1|  4.4 and up|\n",
      "+--------------------+--------------+------+-------+----+--------+----+-----+--------------+--------------------+----------------+------------------+------------+\n",
      "only showing top 5 rows\n",
      "\n"
     ]
    }
   ],
   "source": [
    "df.show(5)"
   ]
  },
  {
   "cell_type": "code",
   "execution_count": 20,
   "metadata": {},
   "outputs": [],
   "source": [
    "df.createOrReplaceTempView(\"googleplaystore\")"
   ]
  },
  {
   "cell_type": "code",
   "execution_count": null,
   "metadata": {},
   "outputs": [],
   "source": []
  },
  {
   "cell_type": "code",
   "execution_count": 26,
   "metadata": {},
   "outputs": [
    {
     "data": {
      "text/plain": [
       "DataFrame[App: string, Category: string, Rating: double, Reviews: int, Size: string, Installs: int, Type: string, Price: int, Content Rating: string, Genres: string, Last Updated: string, Current Ver: string, Android Ver: string]"
      ]
     },
     "execution_count": 26,
     "metadata": {},
     "output_type": "execute_result"
    }
   ],
   "source": [
    "spark.sql(\"SELECT * FROM googleplaystore\")"
   ]
  },
  {
   "cell_type": "code",
   "execution_count": 28,
   "metadata": {},
   "outputs": [
    {
     "name": "stdout",
     "output_type": "stream",
     "text": [
      "+--------------------+-------------+------+--------+------------------+----------+----+-----+--------------+-------------+--------------+------------------+------------------+--------+\n",
      "|                 App|     Category|Rating| Reviews|              Size|  Installs|Type|Price|Content Rating|       Genres|  Last Updated|       Current Ver|       Android Ver| Reviews|\n",
      "+--------------------+-------------+------+--------+------------------+----------+----+-----+--------------+-------------+--------------+------------------+------------------+--------+\n",
      "|            Facebook|       SOCIAL|   4.1|78158306|Varies with device|1000000000|Free|    0|          Teen|       Social|August 3, 2018|Varies with device|Varies with device|78158306|\n",
      "|            Facebook|       SOCIAL|   4.1|78128208|Varies with device|1000000000|Free|    0|          Teen|       Social|August 3, 2018|Varies with device|Varies with device|78128208|\n",
      "|  WhatsApp Messenger|COMMUNICATION|   4.4|69119316|Varies with device|1000000000|Free|    0|      Everyone|Communication|August 3, 2018|Varies with device|Varies with device|69119316|\n",
      "|  WhatsApp Messenger|COMMUNICATION|   4.4|69119316|Varies with device|1000000000|Free|    0|      Everyone|Communication|August 3, 2018|Varies with device|Varies with device|69119316|\n",
      "|  WhatsApp Messenger|COMMUNICATION|   4.4|69109672|Varies with device|1000000000|Free|    0|      Everyone|Communication|August 3, 2018|Varies with device|Varies with device|69109672|\n",
      "|           Instagram|       SOCIAL|   4.5|66577446|Varies with device|1000000000|Free|    0|          Teen|       Social| July 31, 2018|Varies with device|Varies with device|66577446|\n",
      "|           Instagram|       SOCIAL|   4.5|66577313|Varies with device|1000000000|Free|    0|          Teen|       Social| July 31, 2018|Varies with device|Varies with device|66577313|\n",
      "|           Instagram|       SOCIAL|   4.5|66577313|Varies with device|1000000000|Free|    0|          Teen|       Social| July 31, 2018|Varies with device|Varies with device|66577313|\n",
      "|           Instagram|       SOCIAL|   4.5|66509917|Varies with device|1000000000|Free|    0|          Teen|       Social| July 31, 2018|Varies with device|Varies with device|66509917|\n",
      "|Messenger – Text ...|COMMUNICATION|   4.0|56646578|Varies with device|1000000000|Free|    0|      Everyone|Communication|August 1, 2018|Varies with device|Varies with device|56646578|\n",
      "+--------------------+-------------+------+--------+------------------+----------+----+-----+--------------+-------------+--------------+------------------+------------------+--------+\n",
      "\n"
     ]
    }
   ],
   "source": [
    "#TOP 10 APPS BY Reviews\n",
    "spark.sql(\"select *,googleplaystore.Reviews from googleplaystore order by Reviews desc limit 10\").show()"
   ]
  },
  {
   "cell_type": "code",
   "execution_count": 31,
   "metadata": {},
   "outputs": [
    {
     "name": "stdout",
     "output_type": "stream",
     "text": [
      "+--------------------+-------------------+------+--------+------------------+----------+----+-----+--------------+-----------------+--------------+------------------+------------------+----------+\n",
      "|                 App|           Category|Rating| Reviews|              Size|  Installs|Type|Price|Content Rating|           Genres|  Last Updated|       Current Ver|       Android Ver|  Installs|\n",
      "+--------------------+-------------------+------+--------+------------------+----------+----+-----+--------------+-----------------+--------------+------------------+------------------+----------+\n",
      "|            Hangouts|      COMMUNICATION|   4.0| 3419249|Varies with device|1000000000|Free|    0|      Everyone|    Communication| July 21, 2018|Varies with device|Varies with device|1000000000|\n",
      "|Google Chrome: Fa...|      COMMUNICATION|   4.3| 9643041|Varies with device|1000000000|Free|    0|      Everyone|    Communication|August 1, 2018|Varies with device|Varies with device|1000000000|\n",
      "|   Google Play Books|BOOKS_AND_REFERENCE|   3.9| 1433233|Varies with device|1000000000|Free|    0|          Teen|Books & Reference|August 3, 2018|Varies with device|Varies with device|1000000000|\n",
      "|  WhatsApp Messenger|      COMMUNICATION|   4.4|69119316|Varies with device|1000000000|Free|    0|      Everyone|    Communication|August 3, 2018|Varies with device|Varies with device|1000000000|\n",
      "|Messenger – Text ...|      COMMUNICATION|   4.0|56642847|Varies with device|1000000000|Free|    0|      Everyone|    Communication|August 1, 2018|Varies with device|Varies with device|1000000000|\n",
      "|Messenger – Text ...|      COMMUNICATION|   4.0|56646578|Varies with device|1000000000|Free|    0|      Everyone|    Communication|August 1, 2018|Varies with device|Varies with device|1000000000|\n",
      "|               Gmail|      COMMUNICATION|   4.3| 4604324|Varies with device|1000000000|Free|    0|      Everyone|    Communication|August 2, 2018|Varies with device|Varies with device|1000000000|\n",
      "|            Hangouts|      COMMUNICATION|   4.0| 3419433|Varies with device|1000000000|Free|    0|      Everyone|    Communication| July 21, 2018|Varies with device|Varies with device|1000000000|\n",
      "|Google Chrome: Fa...|      COMMUNICATION|   4.3| 9642995|Varies with device|1000000000|Free|    0|      Everyone|    Communication|August 1, 2018|Varies with device|Varies with device|1000000000|\n",
      "|Skype - free IM &...|      COMMUNICATION|   4.1|10484169|Varies with device|1000000000|Free|    0|      Everyone|    Communication|August 3, 2018|Varies with device|Varies with device|1000000000|\n",
      "+--------------------+-------------------+------+--------+------------------+----------+----+-----+--------------+-----------------+--------------+------------------+------------------+----------+\n",
      "\n"
     ]
    }
   ],
   "source": [
    "#Top 10 Apps by Installs\n",
    "spark.sql(\"Select * ,googleplaystore.Installs from googleplaystore order by Installs desc limit 10\").show()"
   ]
  },
  {
   "cell_type": "code",
   "execution_count": null,
   "metadata": {
    "vscode": {
     "languageId": "sql"
    }
   },
   "outputs": [],
   "source": [
    "select category SUM(Installs) as total_installs from googleplaystore group by category order by total_installs desc"
   ]
  },
  {
   "cell_type": "code",
   "execution_count": 36,
   "metadata": {},
   "outputs": [
    {
     "name": "stdout",
     "output_type": "stream",
     "text": [
      "+-------------------+--------------+\n",
      "|           category|total_installs|\n",
      "+-------------------+--------------+\n",
      "|               GAME|   35086024415|\n",
      "|      COMMUNICATION|   32647276251|\n",
      "|       PRODUCTIVITY|   14176091369|\n",
      "|             SOCIAL|   14069867902|\n",
      "|              TOOLS|   11452771915|\n",
      "|             FAMILY|   10258263505|\n",
      "|        PHOTOGRAPHY|   10088247655|\n",
      "| NEWS_AND_MAGAZINES|    7496317760|\n",
      "|   TRAVEL_AND_LOCAL|    6868887146|\n",
      "|      VIDEO_PLAYERS|    6222002720|\n",
      "|           SHOPPING|    3247848785|\n",
      "|      ENTERTAINMENT|    2869160000|\n",
      "|    PERSONALIZATION|    2325494782|\n",
      "|BOOKS_AND_REFERENCE|    1921469576|\n",
      "|             SPORTS|    1751174498|\n",
      "| HEALTH_AND_FITNESS|    1583072512|\n",
      "|           BUSINESS|    1001914865|\n",
      "|            FINANCE|     876648734|\n",
      "|          EDUCATION|     871452000|\n",
      "|MAPS_AND_NAVIGATION|     724281890|\n",
      "+-------------------+--------------+\n",
      "only showing top 20 rows\n",
      "\n"
     ]
    }
   ],
   "source": [
    "#Grouping by distribution of apps\n",
    "spark.sql(\"select category, SUM(Installs) as total_installs from googleplaystore group by category order by total_installs desc\").show()"
   ]
  },
  {
   "cell_type": "code",
   "execution_count": null,
   "metadata": {},
   "outputs": [],
   "source": []
  }
 ],
 "metadata": {
  "kernelspec": {
   "display_name": "Python 3",
   "language": "python",
   "name": "python3"
  },
  "language_info": {
   "codemirror_mode": {
    "name": "ipython",
    "version": 3
   },
   "file_extension": ".py",
   "mimetype": "text/x-python",
   "name": "python",
   "nbconvert_exporter": "python",
   "pygments_lexer": "ipython3",
   "version": "3.10.0"
  }
 },
 "nbformat": 4,
 "nbformat_minor": 2
}
